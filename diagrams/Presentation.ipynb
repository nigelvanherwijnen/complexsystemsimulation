{
 "cells": [
  {
   "cell_type": "markdown",
   "metadata": {},
   "source": [
    "# Self organised small world network in brain simulation"
   ]
  },
  {
   "cell_type": "markdown",
   "metadata": {},
   "source": [
    "We model one of the most complex systems: the human brain.\n",
    "\n",
    "Pavlov --> Dogs associate bells with food\n",
    "\n",
    "Hebb --> What wires together fires together"
   ]
  },
  {
   "cell_type": "markdown",
   "metadata": {},
   "source": [
    "### Initial model: \n",
    "- Random graph\n",
    "    - Number of nodes\n",
    "    - Number of edges\n",
    "    - Each node has own activation value [-1,1]\n",
    "    "
   ]
  },
  {
   "cell_type": "code",
   "execution_count": null,
   "metadata": {
    "collapsed": true
   },
   "outputs": [],
   "source": []
  },
  {
   "cell_type": "markdown",
   "metadata": {},
   "source": [
    "### Rewiring Algorithm\n",
    "\n",
    "1) Apply logistic mapping\n",
    "\n",
    "2) Select pivot and candidate\n",
    "    \n",
    "3) Rewire if possible\n",
    "\n",
    "4) Go back to step 1"
   ]
  },
  {
   "cell_type": "markdown",
   "metadata": {},
   "source": [
    "### Apply logistic mapping (I)\n",
    "   \n",
    "       - Each nodes activation value is updated according to the equation below\n",
    "$$\n",
    "    \\begin{equation*}\n",
    "        x^i_{n+1} = (1- \\epsilon) \\cdot f(x^j_n)+\\frac{\\epsilon}{M_i}\\sum_{j \\in B(i)}f(x^j_n)\n",
    "    \\end{equation*}\n",
    "$$\n",
    "\n",
    "        Where \n",
    "\n",
    "$$f(\\cdot) = 1 - \\alpha x^2$$"
   ]
  },
  {
   "cell_type": "markdown",
   "metadata": {},
   "source": [
    "### Select pivot and candidate (II)\n",
    "\n",
    "    - Randomly select one unit from the network (the pivot). \n",
    "    - From all other units, select the one whose activation value is closest to the pivot’s. \n",
    "    - This unit is the candidate."
   ]
  },
  {
   "cell_type": "markdown",
   "metadata": {},
   "source": [
    "### Rewire if possible (III)\n",
    "    - Establish a connection between the pivot and the candidate if there is none.\n",
    "    - Then, from the pivot's neighbours, select the one whose activation value is farthest from the pivot’s, and cut its connection\n",
    "    - If there is already a connection between the pivot and the candidate, or if the pivot has zero connections, nothing happens and this step is skipped."
   ]
  },
  {
   "cell_type": "markdown",
   "metadata": {},
   "source": [
    "### Go back to step 1 (IV)"
   ]
  },
  {
   "cell_type": "markdown",
   "metadata": {},
   "source": [
    "$$x=100$$"
   ]
  }
 ],
 "metadata": {
  "kernelspec": {
   "display_name": "Python 3",
   "language": "python",
   "name": "python3"
  },
  "language_info": {
   "codemirror_mode": {
    "name": "ipython",
    "version": 3
   },
   "file_extension": ".py",
   "mimetype": "text/x-python",
   "name": "python",
   "nbconvert_exporter": "python",
   "pygments_lexer": "ipython3",
   "version": "3.6.1"
  }
 },
 "nbformat": 4,
 "nbformat_minor": 2
}
